{
 "cells": [
  {
   "cell_type": "markdown",
   "id": "danish-attendance",
   "metadata": {},
   "source": [
    "# **Extracting Eyeblink features from EEG**"
   ]
  },
  {
   "cell_type": "markdown",
   "id": "digital-fancy",
   "metadata": {},
   "source": [
    "## **1) Importing libraries and reading EDF file**\n"
   ]
  },
  {
   "cell_type": "code",
   "execution_count": 1,
   "id": "visible-basement",
   "metadata": {
    "scrolled": true,
    "tags": []
   },
   "outputs": [
    {
     "name": "stderr",
     "output_type": "stream",
     "text": [
      "<ipython-input-1-1a3c2a7a37f1>:8: RuntimeWarning:   Could not parse meas date from the header. Setting to None.\n",
      "  raw = mne.io.read_raw_cnt(fname, preload=True)\n",
      "C:\\Users\\USER\\.conda\\envs\\mne_new\\lib\\site-packages\\mne\\io\\cnt\\cnt.py:241: RuntimeWarning: overflow encountered in long_scalars\n",
      "  data_size // (n_samples * n_channels) not in [2, 4]):\n",
      "<ipython-input-1-1a3c2a7a37f1>:8: RuntimeWarning: Could not define the number of bytes automatically. Defaulting to 2.\n",
      "  raw = mne.io.read_raw_cnt(fname, preload=True)\n",
      "C:\\Users\\USER\\.conda\\envs\\mne_new\\lib\\site-packages\\mne\\io\\cnt\\cnt.py:282: RuntimeWarning: overflow encountered in float_scalars\n",
      "  cals.append(cal * sensitivity * 1e-6 / 204.8)\n"
     ]
    },
    {
     "ename": "UnicodeDecodeError",
     "evalue": "'ascii' codec can't decode byte 0x80 in position 1: ordinal not in range(128)",
     "output_type": "error",
     "traceback": [
      "\u001b[1;31m---------------------------------------------------------------------------\u001b[0m",
      "\u001b[1;31mUnicodeDecodeError\u001b[0m                        Traceback (most recent call last)",
      "\u001b[1;32m<ipython-input-1-1a3c2a7a37f1>\u001b[0m in \u001b[0;36m<module>\u001b[1;34m\u001b[0m\n\u001b[0;32m      6\u001b[0m \u001b[1;31m#fname = \"sub_1_03.edf\"\u001b[0m\u001b[1;33m\u001b[0m\u001b[1;33m\u001b[0m\u001b[1;33m\u001b[0m\u001b[0m\n\u001b[0;32m      7\u001b[0m \u001b[0mfname\u001b[0m \u001b[1;33m=\u001b[0m \u001b[1;34m\"1-1.edf\"\u001b[0m\u001b[1;33m\u001b[0m\u001b[1;33m\u001b[0m\u001b[0m\n\u001b[1;32m----> 8\u001b[1;33m \u001b[0mraw\u001b[0m \u001b[1;33m=\u001b[0m \u001b[0mmne\u001b[0m\u001b[1;33m.\u001b[0m\u001b[0mio\u001b[0m\u001b[1;33m.\u001b[0m\u001b[0mread_raw_cnt\u001b[0m\u001b[1;33m(\u001b[0m\u001b[0mfname\u001b[0m\u001b[1;33m,\u001b[0m \u001b[0mpreload\u001b[0m\u001b[1;33m=\u001b[0m\u001b[1;32mTrue\u001b[0m\u001b[1;33m)\u001b[0m\u001b[1;33m\u001b[0m\u001b[1;33m\u001b[0m\u001b[0m\n\u001b[0m",
      "\u001b[1;32m~\\.conda\\envs\\mne_new\\lib\\site-packages\\mne\\io\\cnt\\cnt.py\u001b[0m in \u001b[0;36mread_raw_cnt\u001b[1;34m(input_fname, eog, misc, ecg, emg, data_format, date_format, preload, verbose)\u001b[0m\n\u001b[0;32m    161\u001b[0m     \u001b[1;33m.\u001b[0m\u001b[1;33m.\u001b[0m \u001b[0mversionadded\u001b[0m\u001b[1;33m:\u001b[0m\u001b[1;33m:\u001b[0m \u001b[1;36m0.12\u001b[0m\u001b[1;33m\u001b[0m\u001b[1;33m\u001b[0m\u001b[0m\n\u001b[0;32m    162\u001b[0m     \"\"\"\n\u001b[1;32m--> 163\u001b[1;33m     return RawCNT(input_fname, eog=eog, misc=misc, ecg=ecg,\n\u001b[0m\u001b[0;32m    164\u001b[0m                   \u001b[0memg\u001b[0m\u001b[1;33m=\u001b[0m\u001b[0memg\u001b[0m\u001b[1;33m,\u001b[0m \u001b[0mdata_format\u001b[0m\u001b[1;33m=\u001b[0m\u001b[0mdata_format\u001b[0m\u001b[1;33m,\u001b[0m \u001b[0mdate_format\u001b[0m\u001b[1;33m=\u001b[0m\u001b[0mdate_format\u001b[0m\u001b[1;33m,\u001b[0m\u001b[1;33m\u001b[0m\u001b[1;33m\u001b[0m\u001b[0m\n\u001b[0;32m    165\u001b[0m                   preload=preload, verbose=verbose)\n",
      "\u001b[1;32m~\\.conda\\envs\\mne_new\\lib\\site-packages\\mne\\io\\cnt\\cnt.py\u001b[0m in \u001b[0;36m__init__\u001b[1;34m(self, input_fname, eog, misc, ecg, emg, data_format, date_format, preload, verbose)\u001b[0m\n\u001b[0;32m    388\u001b[0m \u001b[1;33m\u001b[0m\u001b[0m\n\u001b[0;32m    389\u001b[0m         \u001b[0minput_fname\u001b[0m \u001b[1;33m=\u001b[0m \u001b[0mpath\u001b[0m\u001b[1;33m.\u001b[0m\u001b[0mabspath\u001b[0m\u001b[1;33m(\u001b[0m\u001b[0minput_fname\u001b[0m\u001b[1;33m)\u001b[0m\u001b[1;33m\u001b[0m\u001b[1;33m\u001b[0m\u001b[0m\n\u001b[1;32m--> 390\u001b[1;33m         info, cnt_info = _get_cnt_info(input_fname, eog, ecg, emg, misc,\n\u001b[0m\u001b[0;32m    391\u001b[0m                                        data_format, _date_format)\n\u001b[0;32m    392\u001b[0m         \u001b[0mlast_samps\u001b[0m \u001b[1;33m=\u001b[0m \u001b[1;33m[\u001b[0m\u001b[0mcnt_info\u001b[0m\u001b[1;33m[\u001b[0m\u001b[1;34m'n_samples'\u001b[0m\u001b[1;33m]\u001b[0m \u001b[1;33m-\u001b[0m \u001b[1;36m1\u001b[0m\u001b[1;33m]\u001b[0m\u001b[1;33m\u001b[0m\u001b[1;33m\u001b[0m\u001b[0m\n",
      "\u001b[1;32m~\\.conda\\envs\\mne_new\\lib\\site-packages\\mne\\io\\cnt\\cnt.py\u001b[0m in \u001b[0;36m_get_cnt_info\u001b[1;34m(input_fname, eog, ecg, emg, misc, data_format, date_format)\u001b[0m\n\u001b[0;32m    264\u001b[0m         \u001b[1;32mfor\u001b[0m \u001b[0mch_idx\u001b[0m \u001b[1;32min\u001b[0m \u001b[0mrange\u001b[0m\u001b[1;33m(\u001b[0m\u001b[0mn_channels\u001b[0m\u001b[1;33m)\u001b[0m\u001b[1;33m:\u001b[0m  \u001b[1;31m# ELECTLOC fields\u001b[0m\u001b[1;33m\u001b[0m\u001b[1;33m\u001b[0m\u001b[0m\n\u001b[0;32m    265\u001b[0m             \u001b[0mfid\u001b[0m\u001b[1;33m.\u001b[0m\u001b[0mseek\u001b[0m\u001b[1;33m(\u001b[0m\u001b[0mdata_offset\u001b[0m \u001b[1;33m+\u001b[0m \u001b[1;36m75\u001b[0m \u001b[1;33m*\u001b[0m \u001b[0mch_idx\u001b[0m\u001b[1;33m)\u001b[0m\u001b[1;33m\u001b[0m\u001b[1;33m\u001b[0m\u001b[0m\n\u001b[1;32m--> 266\u001b[1;33m             \u001b[0mch_name\u001b[0m \u001b[1;33m=\u001b[0m \u001b[0mread_str\u001b[0m\u001b[1;33m(\u001b[0m\u001b[0mfid\u001b[0m\u001b[1;33m,\u001b[0m \u001b[1;36m10\u001b[0m\u001b[1;33m)\u001b[0m\u001b[1;33m\u001b[0m\u001b[1;33m\u001b[0m\u001b[0m\n\u001b[0m\u001b[0;32m    267\u001b[0m             \u001b[0mch_names\u001b[0m\u001b[1;33m.\u001b[0m\u001b[0mappend\u001b[0m\u001b[1;33m(\u001b[0m\u001b[0mch_name\u001b[0m\u001b[1;33m)\u001b[0m\u001b[1;33m\u001b[0m\u001b[1;33m\u001b[0m\u001b[0m\n\u001b[0;32m    268\u001b[0m             \u001b[0mfid\u001b[0m\u001b[1;33m.\u001b[0m\u001b[0mseek\u001b[0m\u001b[1;33m(\u001b[0m\u001b[0mdata_offset\u001b[0m \u001b[1;33m+\u001b[0m \u001b[1;36m75\u001b[0m \u001b[1;33m*\u001b[0m \u001b[0mch_idx\u001b[0m \u001b[1;33m+\u001b[0m \u001b[1;36m4\u001b[0m\u001b[1;33m)\u001b[0m\u001b[1;33m\u001b[0m\u001b[1;33m\u001b[0m\u001b[0m\n",
      "\u001b[1;32m~\\.conda\\envs\\mne_new\\lib\\site-packages\\mne\\io\\utils.py\u001b[0m in \u001b[0;36mread_str\u001b[1;34m(fid, count)\u001b[0m\n\u001b[0;32m    242\u001b[0m                              b'\\x00' in data else count]])\n\u001b[0;32m    243\u001b[0m \u001b[1;33m\u001b[0m\u001b[0m\n\u001b[1;32m--> 244\u001b[1;33m     \u001b[1;32mreturn\u001b[0m \u001b[0mstr\u001b[0m\u001b[1;33m(\u001b[0m\u001b[0mbytestr\u001b[0m\u001b[1;33m.\u001b[0m\u001b[0mdecode\u001b[0m\u001b[1;33m(\u001b[0m\u001b[1;34m'ascii'\u001b[0m\u001b[1;33m)\u001b[0m\u001b[1;33m)\u001b[0m  \u001b[1;31m# Return native str type for Py2/3\u001b[0m\u001b[1;33m\u001b[0m\u001b[1;33m\u001b[0m\u001b[0m\n\u001b[0m\u001b[0;32m    245\u001b[0m \u001b[1;33m\u001b[0m\u001b[0m\n\u001b[0;32m    246\u001b[0m \u001b[1;33m\u001b[0m\u001b[0m\n",
      "\u001b[1;31mUnicodeDecodeError\u001b[0m: 'ascii' codec can't decode byte 0x80 in position 1: ordinal not in range(128)"
     ]
    }
   ],
   "source": [
    "import mne\n",
    "import matplotlib\n",
    "\n",
    "matplotlib.use('Qt5Agg')\n",
    "\n",
    "#fname = \"sub_1_03.edf\"\n",
    "fname = \"1-1.edf\"\n",
    "raw = mne.io.read_raw_cnt(fname, preload=True)"
   ]
  },
  {
   "cell_type": "markdown",
   "id": "afraid-private",
   "metadata": {},
   "source": [
    "## **2) Selecting channels of interest & info**"
   ]
  },
  {
   "cell_type": "code",
   "execution_count": 42,
   "id": "behind-spiritual",
   "metadata": {},
   "outputs": [
    {
     "data": {
      "text/plain": [
       "2"
      ]
     },
     "execution_count": 42,
     "metadata": {},
     "output_type": "execute_result"
    }
   ],
   "source": [
    "raw_eeg_d = raw.copy().pick_types(meg=False, eeg=True, eog=False, exclude=['P7', 'P4', 'Cz', 'Pz', 'P3', 'P8', 'O1', 'O2', 'T8', 'F8', 'C4', 'F4', 'Fz', 'C3', 'F3', 'T7', 'F7', 'EXT','X','Y','Z'])\n",
    "len(raw_eeg_d.ch_names)"
   ]
  },
  {
   "cell_type": "code",
   "execution_count": 2,
   "id": "latin-thompson",
   "metadata": {},
   "outputs": [
    {
     "data": {
      "text/plain": [
       "19"
      ]
     },
     "execution_count": 2,
     "metadata": {},
     "output_type": "execute_result"
    }
   ],
   "source": [
    "raw_eeg = raw.copy().pick_types(meg=False, eeg=True, eog=False, exclude=['EXT','X','Y','Z'])\n",
    "len(raw_eeg.ch_names)"
   ]
  },
  {
   "cell_type": "code",
   "execution_count": 3,
   "id": "smart-excellence",
   "metadata": {
    "tags": []
   },
   "outputs": [
    {
     "data": {
      "text/plain": [
       "<Info | 7 non-empty values\n",
       " bads: []\n",
       " ch_names: P7, P4, Cz, Pz, P3, P8, O1, O2, T8, F8, C4, F4, Fp2, Fz, C3, F3, ...\n",
       " chs: 19 EEG\n",
       " custom_ref_applied: False\n",
       " highpass: 0.1 Hz\n",
       " lowpass: 250.0 Hz\n",
       " meas_date: 2013-06-23 09:55:25 UTC\n",
       " nchan: 19\n",
       " projs: []\n",
       " sfreq: 500.0 Hz\n",
       ">"
      ]
     },
     "execution_count": 3,
     "metadata": {},
     "output_type": "execute_result"
    }
   ],
   "source": [
    "raw_eeg.info"
   ]
  },
  {
   "cell_type": "code",
   "execution_count": 3,
   "id": "advised-fruit",
   "metadata": {},
   "outputs": [
    {
     "data": {
      "text/plain": [
       "<RawEDF | sub_1_03.edf, 19 x 1260500 (2521.0 s), ~182.8 MB, data loaded>"
      ]
     },
     "execution_count": 3,
     "metadata": {},
     "output_type": "execute_result"
    }
   ],
   "source": [
    "montage_kind = \"standard_1020\"\n",
    "montage = mne.channels.make_standard_montage(montage_kind)\n",
    "raw_eeg.set_montage(montage, match_case=False)"
   ]
  },
  {
   "cell_type": "code",
   "execution_count": 5,
   "id": "therapeutic-amplifier",
   "metadata": {},
   "outputs": [
    {
     "data": {
      "text/plain": [
       "<RawEDF | sub_1_03.edf, 19 x 1260500 (2521.0 s), ~182.8 MB, data loaded>"
      ]
     },
     "execution_count": 5,
     "metadata": {},
     "output_type": "execute_result"
    }
   ],
   "source": [
    "raw_eeg"
   ]
  },
  {
   "cell_type": "code",
   "execution_count": 6,
   "id": "dangerous-dubai",
   "metadata": {},
   "outputs": [
    {
     "name": "stdout",
     "output_type": "stream",
     "text": [
      "Size of the matrix: (19, 1260500)\n",
      "\n"
     ]
    }
   ],
   "source": [
    "print('Size of the matrix: {}\\n'.format(raw_eeg.get_data().shape))"
   ]
  },
  {
   "cell_type": "markdown",
   "id": "protecting-toyota",
   "metadata": {},
   "source": [
    "## **3) Plots raw**"
   ]
  },
  {
   "cell_type": "markdown",
   "id": "steady-island",
   "metadata": {},
   "source": [
    "### a) Plot based on suitable scale"
   ]
  },
  {
   "cell_type": "code",
   "execution_count": 23,
   "id": "amino-cambodia",
   "metadata": {},
   "outputs": [
    {
     "data": {
      "text/plain": [
       "<MNEBrowseFigure size 1366x705 with 4 Axes>"
      ]
     },
     "execution_count": 23,
     "metadata": {},
     "output_type": "execute_result"
    }
   ],
   "source": [
    "raw_eeg.plot(duration = 20,scalings = 334985)"
   ]
  },
  {
   "cell_type": "markdown",
   "id": "packed-costume",
   "metadata": {},
   "source": [
    "### b) Plot of PSD"
   ]
  },
  {
   "cell_type": "code",
   "execution_count": 11,
   "id": "aggressive-disability",
   "metadata": {
    "tags": []
   },
   "outputs": [
    {
     "name": "stdout",
     "output_type": "stream",
     "text": [
      "Effective window size : 4.096 (s)\n"
     ]
    },
    {
     "name": "stderr",
     "output_type": "stream",
     "text": [
      "<ipython-input-11-d29de30f2258>:1: RuntimeWarning: Channel locations not available. Disabling spatial colors.\n",
      "  raw_eeg.plot_psd(fmax=150)\n"
     ]
    },
    {
     "data": {
      "text/plain": [
       "<MNELineFigure size 1000x350 with 1 Axes>"
      ]
     },
     "execution_count": 11,
     "metadata": {},
     "output_type": "execute_result"
    }
   ],
   "source": [
    "raw_eeg.plot_psd(fmax=150)"
   ]
  },
  {
   "cell_type": "markdown",
   "id": "gorgeous-winning",
   "metadata": {},
   "source": [
    "## **4) Applying filters**"
   ]
  },
  {
   "cell_type": "markdown",
   "id": "designing-pencil",
   "metadata": {},
   "source": [
    "### a) Apply Bandpass filter"
   ]
  },
  {
   "cell_type": "code",
   "execution_count": 4,
   "id": "every-journalist",
   "metadata": {
    "tags": []
   },
   "outputs": [
    {
     "name": "stdout",
     "output_type": "stream",
     "text": [
      "Filtering raw data in 1 contiguous segment\n",
      "Setting up band-pass filter from 0.5 - 40 Hz\n",
      "\n",
      "FIR filter parameters\n",
      "---------------------\n",
      "Designing a one-pass, zero-phase, non-causal bandpass filter:\n",
      "- Windowed time-domain design (firwin) method\n",
      "- Hamming window with 0.0194 passband ripple and 53 dB stopband attenuation\n",
      "- Lower passband edge: 0.50\n",
      "- Lower transition bandwidth: 0.50 Hz (-6 dB cutoff frequency: 0.25 Hz)\n",
      "- Upper passband edge: 40.00 Hz\n",
      "- Upper transition bandwidth: 10.00 Hz (-6 dB cutoff frequency: 45.00 Hz)\n",
      "- Filter length: 3301 samples (6.602 sec)\n",
      "\n",
      "Filtering raw data in 1 contiguous segment\n",
      "Setting up band-pass filter from 1 - 37 Hz\n",
      "\n",
      "FIR filter parameters\n",
      "---------------------\n",
      "Designing a one-pass, zero-phase, non-causal bandpass filter:\n",
      "- Windowed time-domain design (firwin) method\n",
      "- Hamming window with 0.0194 passband ripple and 53 dB stopband attenuation\n",
      "- Lower passband edge: 1.00\n",
      "- Lower transition bandwidth: 1.00 Hz (-6 dB cutoff frequency: 0.50 Hz)\n",
      "- Upper passband edge: 37.00 Hz\n",
      "- Upper transition bandwidth: 9.25 Hz (-6 dB cutoff frequency: 41.62 Hz)\n",
      "- Filter length: 1651 samples (3.302 sec)\n",
      "\n"
     ]
    }
   ],
   "source": [
    "raw_eeg.load_data()\n",
    "raw_eeg_filt_05_50 = raw_eeg.copy().filter(l_freq=0.5, h_freq=40)\n",
    "raw_eeg_filt_1_37 = raw_eeg.copy().filter(l_freq=1, h_freq=37)"
   ]
  },
  {
   "cell_type": "markdown",
   "id": "personal-stomach",
   "metadata": {},
   "source": [
    "### b) Apply Notch filter (need this?)"
   ]
  },
  {
   "cell_type": "code",
   "execution_count": null,
   "id": "olympic-biography",
   "metadata": {},
   "outputs": [],
   "source": [
    "raw_eeg_filt_1_50_notch = raw_eeg_filt_1_50.copy().filter_notch()"
   ]
  },
  {
   "cell_type": "markdown",
   "id": "sought-darwin",
   "metadata": {},
   "source": [
    "### c) Plot filtered data"
   ]
  },
  {
   "cell_type": "code",
   "execution_count": 6,
   "id": "vietnamese-recognition",
   "metadata": {
    "tags": []
   },
   "outputs": [
    {
     "name": "stdout",
     "output_type": "stream",
     "text": [
      "Effective window size : 4.096 (s)\n",
      "Effective window size : 4.096 (s)\n"
     ]
    }
   ],
   "source": [
    "import matplotlib.pyplot as plt\n",
    "\n",
    "fig, ax = plt.subplots(2)\n",
    "\n",
    "raw_eeg.plot_psd(ax=ax[0], show=False)\n",
    "raw_eeg_filt_1_37.plot_psd(ax=ax[1], show=False)\n",
    "\n",
    "ax[0].set_title('PSD before filtering')\n",
    "ax[1].set_title('PSD after filtering')\n",
    "ax[1].set_xlabel('Frequency (Hz)')\n",
    "fig.set_tight_layout(False) \n",
    "# see other options to display \n",
    "plt.show()"
   ]
  },
  {
   "cell_type": "code",
   "execution_count": 46,
   "id": "faced-strength",
   "metadata": {},
   "outputs": [
    {
     "data": {
      "text/plain": [
       "<MNEBrowseFigure size 1366x705 with 4 Axes>"
      ]
     },
     "execution_count": 46,
     "metadata": {},
     "output_type": "execute_result"
    },
    {
     "name": "stdout",
     "output_type": "stream",
     "text": [
      "Channels marked as bad: none\n",
      "Channels marked as bad: none\n"
     ]
    }
   ],
   "source": [
    "raw_eeg_filt_1_37.plot(title = 'Filtered data', duration = 20, scalings = 334985)"
   ]
  },
  {
   "cell_type": "markdown",
   "id": "statutory-windsor",
   "metadata": {},
   "source": [
    "## **5) Applying ICA**"
   ]
  },
  {
   "cell_type": "code",
   "execution_count": 9,
   "id": "round-contract",
   "metadata": {},
   "outputs": [],
   "source": [
    "eeg_ica = raw_eeg_filt_1_37.copy()"
   ]
  },
  {
   "cell_type": "code",
   "execution_count": 37,
   "id": "inclusive-summer",
   "metadata": {},
   "outputs": [
    {
     "name": "stdout",
     "output_type": "stream",
     "text": [
      "Fitting ICA to data using 19 channels (please be patient, this may take a while)\n",
      "Selecting by number: 19 components\n",
      "Fitting ICA took 112.8s.\n"
     ]
    }
   ],
   "source": [
    "n_components = 19\n",
    "method = 'picard' #can converge faster than Infomax and FastICA\n",
    "max_iter = 500 # just to prevent infinite loop - normally 500 or 1000\n",
    "fit_params = dict(fastica_it=5) #can drop this also\n",
    "random_state = 10 # fix a number so that can get same results\n",
    "\n",
    "ica = mne.preprocessing.ICA(n_components=n_components,\n",
    "                            random_state=random_state,\n",
    "                            method=method,\n",
    "                            fit_params=fit_params,\n",
    "                            max_iter=max_iter)\n",
    "tempica = ica.fit(eeg_ica)"
   ]
  },
  {
   "cell_type": "code",
   "execution_count": 21,
   "id": "gothic-hospital",
   "metadata": {
    "tags": []
   },
   "outputs": [
    {
     "data": {
      "text/plain": [
       "[<Figure size 975x749 with 19 Axes>]"
      ]
     },
     "execution_count": 21,
     "metadata": {},
     "output_type": "execute_result"
    }
   ],
   "source": [
    "ica.plot_components(inst = eeg_ica)"
   ]
  },
  {
   "cell_type": "markdown",
   "id": "regulation-captain",
   "metadata": {},
   "source": [
    "## **6) Saving output as EDF file**"
   ]
  },
  {
   "cell_type": "code",
   "execution_count": null,
   "id": "double-amount",
   "metadata": {},
   "outputs": [],
   "source": [
    "raw_eeg_cropped_filtered.save(pathlib.Path('out_data') / 'eeg_cropped_filt_raw.fif', \n",
    "                              overwrite=True)"
   ]
  },
  {
   "cell_type": "code",
   "execution_count": 27,
   "id": "functional-triple",
   "metadata": {},
   "outputs": [
    {
     "name": "stdout",
     "output_type": "stream",
     "text": [
      "Creating RawArray with float64 data, n_channels=19, n_times=1260500\n",
      "    Range : 0 ... 1260499 =      0.000 ...  2520.998 secs\n",
      "Ready.\n"
     ]
    },
    {
     "data": {
      "text/plain": [
       "<MNEBrowseFigure size 1366x705 with 4 Axes>"
      ]
     },
     "execution_count": 27,
     "metadata": {},
     "output_type": "execute_result"
    }
   ],
   "source": [
    "ica.plot_sources(eeg_ica, show_scrollbars=True)"
   ]
  },
  {
   "cell_type": "code",
   "execution_count": 40,
   "id": "official-acting",
   "metadata": {},
   "outputs": [],
   "source": [
    "tempicadata = ica.get_sources(eeg_ica)"
   ]
  },
  {
   "cell_type": "code",
   "execution_count": 44,
   "id": "tutorial-supplier",
   "metadata": {},
   "outputs": [
    {
     "data": {
      "text/plain": [
       "<MNEBrowseFigure size 1366x705 with 4 Axes>"
      ]
     },
     "execution_count": 44,
     "metadata": {},
     "output_type": "execute_result"
    }
   ],
   "source": [
    "tempicadata.plot(title = 'ica data', duration = 20, scalings = 10)"
   ]
  },
  {
   "cell_type": "code",
   "execution_count": 52,
   "id": "prerequisite-modem",
   "metadata": {},
   "outputs": [],
   "source": [
    "import csv\n",
    "  \n",
    "  \n",
    "# field names \n",
    "fields = ['Name', 'Branch', 'Year', 'CGPA'] \n",
    "    \n",
    "# data rows of csv file \n",
    "rows = [ ['Nikhil', 'COE', '2', '9.0'], \n",
    "         ['Sanchit', 'COE', '2', '9.1'], \n",
    "         ['Aditya', 'IT', '2', '9.3'], \n",
    "         ['Sagar', 'SE', '1', '9.5'], \n",
    "         ['Prateek', 'MCE', '3', '7.8'], \n",
    "         ['Sahil', 'EP', '2', '9.1']] \n",
    "  \n",
    "with open('try.csv', 'w') as f:\n",
    "      \n",
    "    # using csv.writer method from CSV package\n",
    "    write = csv.writer(f)\n",
    "      \n",
    "    write.writerow(fields)\n",
    "    write.writerows(rows)"
   ]
  },
  {
   "cell_type": "code",
   "execution_count": 53,
   "id": "loving-miller",
   "metadata": {},
   "outputs": [
    {
     "data": {
      "text/plain": [
       "<Info | 8 non-empty values\n",
       " bads: []\n",
       " ch_names: ICA000, ICA001, ICA002, ICA003, ICA004, ICA005, ICA006, ICA007, ...\n",
       " chs: 19 MISC\n",
       " custom_ref_applied: False\n",
       " dig: 22 items (3 Cardinal, 19 EEG)\n",
       " highpass: 1.0 Hz\n",
       " lowpass: 37.0 Hz\n",
       " meas_date: 2013-06-23 09:55:25 UTC\n",
       " nchan: 19\n",
       " projs: []\n",
       " sfreq: 500.0 Hz\n",
       ">"
      ]
     },
     "execution_count": 53,
     "metadata": {},
     "output_type": "execute_result"
    }
   ],
   "source": [
    "tempicadata.info"
   ]
  },
  {
   "cell_type": "code",
   "execution_count": 57,
   "id": "decent-batch",
   "metadata": {},
   "outputs": [
    {
     "data": {
      "text/plain": [
       "'ICA001'"
      ]
     },
     "execution_count": 57,
     "metadata": {},
     "output_type": "execute_result"
    }
   ],
   "source": [
    "tempicadata.ch_names[1]"
   ]
  },
  {
   "cell_type": "code",
   "execution_count": 58,
   "id": "broadband-german",
   "metadata": {},
   "outputs": [],
   "source": [
    "df=tempicadata.to_data_frame()\n",
    "df.to_csv('file.csv',index=False)"
   ]
  },
  {
   "cell_type": "code",
   "execution_count": 59,
   "id": "martial-newfoundland",
   "metadata": {},
   "outputs": [],
   "source": [
    "filtf=raw_eeg_filt_1_37.to_data_frame()\n",
    "filtf.to_csv('fit_eeg.csv',index=False)"
   ]
  },
  {
   "cell_type": "code",
   "execution_count": null,
   "id": "scientific-elevation",
   "metadata": {},
   "outputs": [],
   "source": []
  }
 ],
 "metadata": {
  "kernelspec": {
   "display_name": "Python 3",
   "language": "python",
   "name": "python3"
  },
  "language_info": {
   "codemirror_mode": {
    "name": "ipython",
    "version": 3
   },
   "file_extension": ".py",
   "mimetype": "text/x-python",
   "name": "python",
   "nbconvert_exporter": "python",
   "pygments_lexer": "ipython3",
   "version": "3.8.8"
  }
 },
 "nbformat": 4,
 "nbformat_minor": 5
}
