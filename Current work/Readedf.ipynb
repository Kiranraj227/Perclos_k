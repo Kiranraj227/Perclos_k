{
 "cells": [
  {
   "cell_type": "markdown",
   "id": "disciplinary-water",
   "metadata": {},
   "source": [
    "# **Extracting Eyeblink features from EEG**"
   ]
  },
  {
   "cell_type": "markdown",
   "id": "generous-tablet",
   "metadata": {},
   "source": [
    "## **1) Importing libraries and reading EDF file**\n"
   ]
  },
  {
   "cell_type": "code",
   "execution_count": 1,
   "id": "opposed-criminal",
   "metadata": {
    "scrolled": true,
    "tags": []
   },
   "outputs": [
    {
     "name": "stdout",
     "output_type": "stream",
     "text": [
      "Extracting EDF parameters from C:\\Users\\USER\\Documents\\My codes\\sub_1_03.edf...\n",
      "EDF file detected\n",
      "Setting channel info structure...\n",
      "Creating raw.info structure...\n",
      "Reading 0 ... 1260499  =      0.000 ...  2520.998 secs...\n"
     ]
    }
   ],
   "source": [
    "import mne\n",
    "import matplotlib\n",
    "\n",
    "matplotlib.use('Qt5Agg')\n",
    "\n",
    "fname = \"sub_1_03.edf\"\n",
    "raw = mne.io.read_raw_edf(fname, preload=True)"
   ]
  },
  {
   "cell_type": "markdown",
   "id": "subjective-future",
   "metadata": {},
   "source": [
    "## **2) Selecting channels of interest & info**"
   ]
  },
  {
   "cell_type": "code",
   "execution_count": 42,
   "id": "disciplinary-gospel",
   "metadata": {},
   "outputs": [
    {
     "data": {
      "text/plain": [
       "2"
      ]
     },
     "execution_count": 42,
     "metadata": {},
     "output_type": "execute_result"
    }
   ],
   "source": [
    "raw_eeg_d = raw.copy().pick_types(meg=False, eeg=True, eog=False, exclude=['P7', 'P4', 'Cz', 'Pz', 'P3', 'P8', 'O1', 'O2', 'T8', 'F8', 'C4', 'F4', 'Fz', 'C3', 'F3', 'T7', 'F7', 'EXT','X','Y','Z'])\n",
    "len(raw_eeg_d.ch_names)"
   ]
  },
  {
   "cell_type": "code",
   "execution_count": 2,
   "id": "cleared-uzbekistan",
   "metadata": {},
   "outputs": [
    {
     "data": {
      "text/plain": [
       "19"
      ]
     },
     "execution_count": 2,
     "metadata": {},
     "output_type": "execute_result"
    }
   ],
   "source": [
    "raw_eeg = raw.copy().pick_types(meg=False, eeg=True, eog=False, exclude=['EXT','X','Y','Z'])\n",
    "len(raw_eeg.ch_names)"
   ]
  },
  {
   "cell_type": "code",
   "execution_count": 3,
   "id": "brave-climb",
   "metadata": {
    "tags": []
   },
   "outputs": [
    {
     "data": {
      "text/plain": [
       "<Info | 7 non-empty values\n",
       " bads: []\n",
       " ch_names: P7, P4, Cz, Pz, P3, P8, O1, O2, T8, F8, C4, F4, Fp2, Fz, C3, F3, ...\n",
       " chs: 19 EEG\n",
       " custom_ref_applied: False\n",
       " highpass: 0.1 Hz\n",
       " lowpass: 250.0 Hz\n",
       " meas_date: 2013-06-23 09:55:25 UTC\n",
       " nchan: 19\n",
       " projs: []\n",
       " sfreq: 500.0 Hz\n",
       ">"
      ]
     },
     "execution_count": 3,
     "metadata": {},
     "output_type": "execute_result"
    }
   ],
   "source": [
    "raw_eeg.info"
   ]
  },
  {
   "cell_type": "code",
   "execution_count": 3,
   "id": "hearing-isaac",
   "metadata": {},
   "outputs": [
    {
     "data": {
      "text/plain": [
       "<RawEDF | sub_1_03.edf, 19 x 1260500 (2521.0 s), ~182.8 MB, data loaded>"
      ]
     },
     "execution_count": 3,
     "metadata": {},
     "output_type": "execute_result"
    }
   ],
   "source": [
    "montage_kind = \"standard_1020\"\n",
    "montage = mne.channels.make_standard_montage(montage_kind)\n",
    "raw_eeg.set_montage(montage, match_case=False)"
   ]
  },
  {
   "cell_type": "code",
   "execution_count": 5,
   "id": "initial-mustang",
   "metadata": {},
   "outputs": [
    {
     "data": {
      "text/plain": [
       "<RawEDF | sub_1_03.edf, 19 x 1260500 (2521.0 s), ~182.8 MB, data loaded>"
      ]
     },
     "execution_count": 5,
     "metadata": {},
     "output_type": "execute_result"
    }
   ],
   "source": [
    "raw_eeg"
   ]
  },
  {
   "cell_type": "code",
   "execution_count": 6,
   "id": "suited-simulation",
   "metadata": {},
   "outputs": [
    {
     "name": "stdout",
     "output_type": "stream",
     "text": [
      "Size of the matrix: (19, 1260500)\n",
      "\n"
     ]
    }
   ],
   "source": [
    "print('Size of the matrix: {}\\n'.format(raw_eeg.get_data().shape))"
   ]
  },
  {
   "cell_type": "markdown",
   "id": "optimum-dispute",
   "metadata": {},
   "source": [
    "## **3) Plots raw**"
   ]
  },
  {
   "cell_type": "markdown",
   "id": "curious-literacy",
   "metadata": {},
   "source": [
    "### a) Plot based on suitable scale"
   ]
  },
  {
   "cell_type": "code",
   "execution_count": 23,
   "id": "enabling-regard",
   "metadata": {},
   "outputs": [
    {
     "data": {
      "text/plain": [
       "<MNEBrowseFigure size 1366x705 with 4 Axes>"
      ]
     },
     "execution_count": 23,
     "metadata": {},
     "output_type": "execute_result"
    }
   ],
   "source": [
    "raw_eeg.plot(duration = 20,scalings = 334985)"
   ]
  },
  {
   "cell_type": "markdown",
   "id": "democratic-lindsay",
   "metadata": {},
   "source": [
    "### b) Plot of PSD"
   ]
  },
  {
   "cell_type": "code",
   "execution_count": 11,
   "id": "elementary-probe",
   "metadata": {
    "tags": []
   },
   "outputs": [
    {
     "name": "stdout",
     "output_type": "stream",
     "text": [
      "Effective window size : 4.096 (s)\n"
     ]
    },
    {
     "name": "stderr",
     "output_type": "stream",
     "text": [
      "<ipython-input-11-d29de30f2258>:1: RuntimeWarning: Channel locations not available. Disabling spatial colors.\n",
      "  raw_eeg.plot_psd(fmax=150)\n"
     ]
    },
    {
     "data": {
      "text/plain": [
       "<MNELineFigure size 1000x350 with 1 Axes>"
      ]
     },
     "execution_count": 11,
     "metadata": {},
     "output_type": "execute_result"
    }
   ],
   "source": [
    "raw_eeg.plot_psd(fmax=150)"
   ]
  },
  {
   "cell_type": "markdown",
   "id": "eleven-harassment",
   "metadata": {},
   "source": [
    "## **4) Applying filters**"
   ]
  },
  {
   "cell_type": "markdown",
   "id": "effective-affiliate",
   "metadata": {},
   "source": [
    "### a) Apply Bandpass filter"
   ]
  },
  {
   "cell_type": "code",
   "execution_count": 4,
   "id": "defensive-former",
   "metadata": {
    "tags": []
   },
   "outputs": [
    {
     "name": "stdout",
     "output_type": "stream",
     "text": [
      "Filtering raw data in 1 contiguous segment\n",
      "Setting up band-pass filter from 0.5 - 40 Hz\n",
      "\n",
      "FIR filter parameters\n",
      "---------------------\n",
      "Designing a one-pass, zero-phase, non-causal bandpass filter:\n",
      "- Windowed time-domain design (firwin) method\n",
      "- Hamming window with 0.0194 passband ripple and 53 dB stopband attenuation\n",
      "- Lower passband edge: 0.50\n",
      "- Lower transition bandwidth: 0.50 Hz (-6 dB cutoff frequency: 0.25 Hz)\n",
      "- Upper passband edge: 40.00 Hz\n",
      "- Upper transition bandwidth: 10.00 Hz (-6 dB cutoff frequency: 45.00 Hz)\n",
      "- Filter length: 3301 samples (6.602 sec)\n",
      "\n",
      "Filtering raw data in 1 contiguous segment\n",
      "Setting up band-pass filter from 1 - 37 Hz\n",
      "\n",
      "FIR filter parameters\n",
      "---------------------\n",
      "Designing a one-pass, zero-phase, non-causal bandpass filter:\n",
      "- Windowed time-domain design (firwin) method\n",
      "- Hamming window with 0.0194 passband ripple and 53 dB stopband attenuation\n",
      "- Lower passband edge: 1.00\n",
      "- Lower transition bandwidth: 1.00 Hz (-6 dB cutoff frequency: 0.50 Hz)\n",
      "- Upper passband edge: 37.00 Hz\n",
      "- Upper transition bandwidth: 9.25 Hz (-6 dB cutoff frequency: 41.62 Hz)\n",
      "- Filter length: 1651 samples (3.302 sec)\n",
      "\n"
     ]
    }
   ],
   "source": [
    "raw_eeg.load_data()\n",
    "raw_eeg_filt_05_50 = raw_eeg.copy().filter(l_freq=0.5, h_freq=40)\n",
    "raw_eeg_filt_1_37 = raw_eeg.copy().filter(l_freq=1, h_freq=37)"
   ]
  },
  {
   "cell_type": "markdown",
   "id": "social-supplement",
   "metadata": {},
   "source": [
    "### b) Apply Notch filter (need this?)"
   ]
  },
  {
   "cell_type": "code",
   "execution_count": null,
   "id": "martial-volunteer",
   "metadata": {},
   "outputs": [],
   "source": [
    "raw_eeg_filt_1_50_notch = raw_eeg_filt_1_50.copy().filter_notch()"
   ]
  },
  {
   "cell_type": "markdown",
   "id": "confidential-farmer",
   "metadata": {},
   "source": [
    "### c) Plot filtered data"
   ]
  },
  {
   "cell_type": "code",
   "execution_count": 6,
   "id": "parental-hampshire",
   "metadata": {
    "tags": []
   },
   "outputs": [
    {
     "name": "stdout",
     "output_type": "stream",
     "text": [
      "Effective window size : 4.096 (s)\n",
      "Effective window size : 4.096 (s)\n"
     ]
    }
   ],
   "source": [
    "import matplotlib.pyplot as plt\n",
    "\n",
    "fig, ax = plt.subplots(2)\n",
    "\n",
    "raw_eeg.plot_psd(ax=ax[0], show=False)\n",
    "raw_eeg_filt_1_37.plot_psd(ax=ax[1], show=False)\n",
    "\n",
    "ax[0].set_title('PSD before filtering')\n",
    "ax[1].set_title('PSD after filtering')\n",
    "ax[1].set_xlabel('Frequency (Hz)')\n",
    "fig.set_tight_layout(False) \n",
    "# see other options to display \n",
    "plt.show()"
   ]
  },
  {
   "cell_type": "code",
   "execution_count": 46,
   "id": "final-analysis",
   "metadata": {},
   "outputs": [
    {
     "data": {
      "text/plain": [
       "<MNEBrowseFigure size 1366x705 with 4 Axes>"
      ]
     },
     "execution_count": 46,
     "metadata": {},
     "output_type": "execute_result"
    },
    {
     "name": "stdout",
     "output_type": "stream",
     "text": [
      "Channels marked as bad: none\n",
      "Channels marked as bad: none\n"
     ]
    }
   ],
   "source": [
    "raw_eeg_filt_1_37.plot(title = 'Filtered data', duration = 20, scalings = 334985)"
   ]
  },
  {
   "cell_type": "markdown",
   "id": "union-field",
   "metadata": {},
   "source": [
    "## **5) Applying ICA**"
   ]
  },
  {
   "cell_type": "code",
   "execution_count": 9,
   "id": "specialized-access",
   "metadata": {},
   "outputs": [],
   "source": [
    "eeg_ica = raw_eeg_filt_1_37.copy()"
   ]
  },
  {
   "cell_type": "code",
   "execution_count": 37,
   "id": "underlying-rates",
   "metadata": {},
   "outputs": [
    {
     "name": "stdout",
     "output_type": "stream",
     "text": [
      "Fitting ICA to data using 19 channels (please be patient, this may take a while)\n",
      "Selecting by number: 19 components\n",
      "Fitting ICA took 112.8s.\n"
     ]
    }
   ],
   "source": [
    "n_components = 19\n",
    "method = 'picard' #can converge faster than Infomax and FastICA\n",
    "max_iter = 500 # just to prevent infinite loop - normally 500 or 1000\n",
    "fit_params = dict(fastica_it=5) #can drop this also\n",
    "random_state = 10 # fix a number so that can get same results\n",
    "\n",
    "ica = mne.preprocessing.ICA(n_components=n_components,\n",
    "                            random_state=random_state,\n",
    "                            method=method,\n",
    "                            fit_params=fit_params,\n",
    "                            max_iter=max_iter)\n",
    "tempica = ica.fit(eeg_ica)"
   ]
  },
  {
   "cell_type": "code",
   "execution_count": 21,
   "id": "tropical-point",
   "metadata": {
    "tags": []
   },
   "outputs": [
    {
     "data": {
      "text/plain": [
       "[<Figure size 975x749 with 19 Axes>]"
      ]
     },
     "execution_count": 21,
     "metadata": {},
     "output_type": "execute_result"
    }
   ],
   "source": [
    "ica.plot_components(inst = eeg_ica)"
   ]
  },
  {
   "cell_type": "markdown",
   "id": "increasing-savage",
   "metadata": {},
   "source": [
    "## **6) Saving output as EDF file**"
   ]
  },
  {
   "cell_type": "code",
   "execution_count": null,
   "id": "unknown-removal",
   "metadata": {},
   "outputs": [],
   "source": [
    "raw_eeg_cropped_filtered.save(pathlib.Path('out_data') / 'eeg_cropped_filt_raw.fif', \n",
    "                              overwrite=True)"
   ]
  },
  {
   "cell_type": "code",
   "execution_count": 27,
   "id": "civilian-solomon",
   "metadata": {},
   "outputs": [
    {
     "name": "stdout",
     "output_type": "stream",
     "text": [
      "Creating RawArray with float64 data, n_channels=19, n_times=1260500\n",
      "    Range : 0 ... 1260499 =      0.000 ...  2520.998 secs\n",
      "Ready.\n"
     ]
    },
    {
     "data": {
      "text/plain": [
       "<MNEBrowseFigure size 1366x705 with 4 Axes>"
      ]
     },
     "execution_count": 27,
     "metadata": {},
     "output_type": "execute_result"
    }
   ],
   "source": [
    "ica.plot_sources(eeg_ica, show_scrollbars=True)"
   ]
  },
  {
   "cell_type": "code",
   "execution_count": 40,
   "id": "polar-looking",
   "metadata": {},
   "outputs": [],
   "source": [
    "tempicadata = ica.get_sources(eeg_ica)"
   ]
  },
  {
   "cell_type": "code",
   "execution_count": 44,
   "id": "japanese-world",
   "metadata": {},
   "outputs": [
    {
     "data": {
      "text/plain": [
       "<MNEBrowseFigure size 1366x705 with 4 Axes>"
      ]
     },
     "execution_count": 44,
     "metadata": {},
     "output_type": "execute_result"
    }
   ],
   "source": [
    "tempicadata.plot(title = 'ica data', duration = 20, scalings = 10)"
   ]
  },
  {
   "cell_type": "code",
   "execution_count": 52,
   "id": "secondary-remove",
   "metadata": {},
   "outputs": [],
   "source": [
    "import csv\n",
    "  \n",
    "  \n",
    "# field names \n",
    "fields = ['Name', 'Branch', 'Year', 'CGPA'] \n",
    "    \n",
    "# data rows of csv file \n",
    "rows = [ ['Nikhil', 'COE', '2', '9.0'], \n",
    "         ['Sanchit', 'COE', '2', '9.1'], \n",
    "         ['Aditya', 'IT', '2', '9.3'], \n",
    "         ['Sagar', 'SE', '1', '9.5'], \n",
    "         ['Prateek', 'MCE', '3', '7.8'], \n",
    "         ['Sahil', 'EP', '2', '9.1']] \n",
    "  \n",
    "with open('try.csv', 'w') as f:\n",
    "      \n",
    "    # using csv.writer method from CSV package\n",
    "    write = csv.writer(f)\n",
    "      \n",
    "    write.writerow(fields)\n",
    "    write.writerows(rows)"
   ]
  },
  {
   "cell_type": "code",
   "execution_count": 53,
   "id": "original-spectrum",
   "metadata": {},
   "outputs": [
    {
     "data": {
      "text/plain": [
       "<Info | 8 non-empty values\n",
       " bads: []\n",
       " ch_names: ICA000, ICA001, ICA002, ICA003, ICA004, ICA005, ICA006, ICA007, ...\n",
       " chs: 19 MISC\n",
       " custom_ref_applied: False\n",
       " dig: 22 items (3 Cardinal, 19 EEG)\n",
       " highpass: 1.0 Hz\n",
       " lowpass: 37.0 Hz\n",
       " meas_date: 2013-06-23 09:55:25 UTC\n",
       " nchan: 19\n",
       " projs: []\n",
       " sfreq: 500.0 Hz\n",
       ">"
      ]
     },
     "execution_count": 53,
     "metadata": {},
     "output_type": "execute_result"
    }
   ],
   "source": [
    "tempicadata.info"
   ]
  },
  {
   "cell_type": "code",
   "execution_count": 57,
   "id": "danish-mercy",
   "metadata": {},
   "outputs": [
    {
     "data": {
      "text/plain": [
       "'ICA001'"
      ]
     },
     "execution_count": 57,
     "metadata": {},
     "output_type": "execute_result"
    }
   ],
   "source": [
    "tempicadata.ch_names[1]"
   ]
  },
  {
   "cell_type": "code",
   "execution_count": 58,
   "id": "interpreted-increase",
   "metadata": {},
   "outputs": [],
   "source": [
    "df=tempicadata.to_data_frame()\n",
    "df.to_csv('file.csv',index=False)"
   ]
  },
  {
   "cell_type": "code",
   "execution_count": 59,
   "id": "upper-style",
   "metadata": {},
   "outputs": [],
   "source": [
    "filtf=raw_eeg_filt_1_37.to_data_frame()\n",
    "filtf.to_csv('fit_eeg.csv',index=False)"
   ]
  },
  {
   "cell_type": "code",
   "execution_count": null,
   "id": "composite-documentary",
   "metadata": {},
   "outputs": [],
   "source": []
  }
 ],
 "metadata": {
  "kernelspec": {
   "display_name": "Python 3",
   "language": "python",
   "name": "python3"
  },
  "language_info": {
   "codemirror_mode": {
    "name": "ipython",
    "version": 3
   },
   "file_extension": ".py",
   "mimetype": "text/x-python",
   "name": "python",
   "nbconvert_exporter": "python",
   "pygments_lexer": "ipython3",
   "version": "3.8.8"
  }
 },
 "nbformat": 4,
 "nbformat_minor": 5
}
