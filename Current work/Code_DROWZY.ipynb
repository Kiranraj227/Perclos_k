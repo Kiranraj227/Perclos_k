{
 "cells": [
  {
   "cell_type": "code",
   "execution_count": 2,
   "id": "sexual-amateur",
   "metadata": {
    "pycharm": {
     "name": "#%%\n"
    }
   },
   "outputs": [],
   "source": [
    "#Libraries\n",
    "import mne\n",
    "import matplotlib\n",
    "import scipy.io\n",
    "\n",
    "\n",
    "matplotlib.use('Qt5Agg')"
   ]
  },
  {
   "cell_type": "code",
   "execution_count": 3,
   "id": "insured-blast",
   "metadata": {
    "pycharm": {
     "name": "#%%\n"
    }
   },
   "outputs": [
    {
     "name": "stdout",
     "output_type": "stream",
     "text": [
      "Extracting EDF parameters from C:\\Users\\USER\\Documents\\My codes\\1-1.edf...\n",
      "EDF file detected\n",
      "Setting channel info structure...\n",
      "Creating raw.info structure...\n",
      "Reading 0 ... 307199  =      0.000 ...   599.998 secs...\n"
     ]
    },
    {
     "data": {
      "text/plain": [
       "<RawEDF | 1-1.edf, 12 x 30721 (60.0 s), ~2.8 MB, data loaded>"
      ]
     },
     "execution_count": 3,
     "metadata": {},
     "output_type": "execute_result"
    }
   ],
   "source": [
    "fname = \"1-1.edf\"\n",
    "raw = mne.io.read_raw_edf(fname, preload=True)\n",
    "raw.crop(tmax=60).load_data()"
   ]
  },
  {
   "cell_type": "code",
   "execution_count": 7,
   "id": "stuffed-crowd",
   "metadata": {
    "pycharm": {
     "name": "#%%\n"
    }
   },
   "outputs": [
    {
     "data": {
      "text/plain": [
       "['Fz',\n",
       " 'Cz',\n",
       " 'C3',\n",
       " 'C4',\n",
       " 'Pz',\n",
       " 'Oz',\n",
       " 'Cam-Sync',\n",
       " 'PVT',\n",
       " 'EOG-V',\n",
       " 'EOG-H',\n",
       " 'EMG',\n",
       " 'ECG']"
      ]
     },
     "execution_count": 7,
     "metadata": {},
     "output_type": "execute_result"
    }
   ],
   "source": [
    "raw.ch_names"
   ]
  },
  {
   "cell_type": "code",
   "execution_count": 4,
   "id": "advance-lafayette",
   "metadata": {
    "pycharm": {
     "name": "#%%\n"
    }
   },
   "outputs": [],
   "source": [
    "exclude_ch = ['Cam-Sync', 'EOG-H', 'EMG', 'ECG','PVT']"
   ]
  },
  {
   "cell_type": "code",
   "execution_count": 9,
   "id": "desperate-sponsorship",
   "metadata": {
    "pycharm": {
     "name": "#%%\n"
    }
   },
   "outputs": [
    {
     "data": {
      "text/plain": [
       "7"
      ]
     },
     "execution_count": 9,
     "metadata": {},
     "output_type": "execute_result"
    }
   ],
   "source": [
    "#Channel selection\n",
    "#raw_sel = raw.copy().pick_types(meg=False, eeg=True, eog=True)\n",
    "raw_sel = raw.copy().pick_types(meg=False, eeg=True, eog=True, exclude= exclude_ch)\n",
    "\n",
    "len(raw_sel.ch_names)"
   ]
  },
  {
   "cell_type": "code",
   "execution_count": 12,
   "id": "cordless-sheffield",
   "metadata": {
    "pycharm": {
     "name": "#%%\n"
    }
   },
   "outputs": [],
   "source": [
    "raw_eeg = raw_sel.copy().pick_types(meg=False, eeg=True, eog=True, exclude=['EOG-V'])"
   ]
  },
  {
   "cell_type": "code",
   "execution_count": 13,
   "id": "sunset-rendering",
   "metadata": {
    "pycharm": {
     "name": "#%%\n"
    }
   },
   "outputs": [
    {
     "data": {
      "text/plain": [
       "<MNEBrowseFigure size 1366x705 with 4 Axes>"
      ]
     },
     "execution_count": 13,
     "metadata": {},
     "output_type": "execute_result"
    }
   ],
   "source": [
    "raw.plot(duration = 20,scalings = 334985)"
   ]
  },
  {
   "cell_type": "code",
   "execution_count": 14,
   "id": "specific-oklahoma",
   "metadata": {
    "pycharm": {
     "name": "#%%\n"
    }
   },
   "outputs": [
    {
     "name": "stdout",
     "output_type": "stream",
     "text": [
      "Filtering raw data in 1 contiguous segment\n",
      "Setting up band-pass filter from 0.5 - 40 Hz\n",
      "\n",
      "FIR filter parameters\n",
      "---------------------\n",
      "Designing a one-pass, zero-phase, non-causal bandpass filter:\n",
      "- Windowed time-domain design (firwin) method\n",
      "- Hamming window with 0.0194 passband ripple and 53 dB stopband attenuation\n",
      "- Lower passband edge: 0.50\n",
      "- Lower transition bandwidth: 0.50 Hz (-6 dB cutoff frequency: 0.25 Hz)\n",
      "- Upper passband edge: 40.00 Hz\n",
      "- Upper transition bandwidth: 10.00 Hz (-6 dB cutoff frequency: 45.00 Hz)\n",
      "- Filter length: 3381 samples (6.604 sec)\n",
      "\n",
      "Filtering raw data in 1 contiguous segment\n",
      "Setting up band-pass filter from 1 - 37 Hz\n",
      "\n",
      "FIR filter parameters\n",
      "---------------------\n",
      "Designing a one-pass, zero-phase, non-causal bandpass filter:\n",
      "- Windowed time-domain design (firwin) method\n",
      "- Hamming window with 0.0194 passband ripple and 53 dB stopband attenuation\n",
      "- Lower passband edge: 1.00\n",
      "- Lower transition bandwidth: 1.00 Hz (-6 dB cutoff frequency: 0.50 Hz)\n",
      "- Upper passband edge: 37.00 Hz\n",
      "- Upper transition bandwidth: 9.25 Hz (-6 dB cutoff frequency: 41.62 Hz)\n",
      "- Filter length: 1691 samples (3.303 sec)\n",
      "\n"
     ]
    }
   ],
   "source": [
    "raw_eeg.load_data()\n",
    "raw_eeg_filt_05_50 = raw_eeg.copy().filter(l_freq=0.5, h_freq=40)\n",
    "raw_eeg_filt_1_37 = raw_eeg.copy().filter(l_freq=1, h_freq=37)"
   ]
  },
  {
   "cell_type": "code",
   "execution_count": 15,
   "id": "derived-locking",
   "metadata": {
    "pycharm": {
     "name": "#%%\n"
    }
   },
   "outputs": [
    {
     "data": {
      "text/plain": [
       "<MNEBrowseFigure size 1366x705 with 4 Axes>"
      ]
     },
     "execution_count": 15,
     "metadata": {},
     "output_type": "execute_result"
    }
   ],
   "source": [
    "raw_eeg_filt_1_37.plot(title = 'Filtered data', duration = 20)"
   ]
  },
  {
   "cell_type": "code",
   "execution_count": 16,
   "id": "alpha-battlefield",
   "metadata": {
    "pycharm": {
     "name": "#%%\n"
    }
   },
   "outputs": [],
   "source": [
    "eeg_ica = raw_eeg_filt_1_37.copy()"
   ]
  },
  {
   "cell_type": "code",
   "execution_count": 18,
   "id": "recreational-bernard",
   "metadata": {
    "pycharm": {
     "name": "#%%\n"
    }
   },
   "outputs": [
    {
     "name": "stdout",
     "output_type": "stream",
     "text": [
      "Fitting ICA to data using 6 channels (please be patient, this may take a while)\n",
      "Selecting by number: 6 components\n",
      "Fitting ICA took 1.9s.\n"
     ]
    }
   ],
   "source": [
    "n_components = 6\n",
    "method = 'picard' #can converge faster than Infomax and FastICA\n",
    "max_iter = 500 # just to prevent infinite loop - normally 500 or 1000\n",
    "fit_params = dict(fastica_it=5) #can drop this also\n",
    "random_state = 30 # fix a number so that can get same results\n",
    "\n",
    "ica = mne.preprocessing.ICA(n_components=n_components,\n",
    "                            random_state=random_state,\n",
    "                            method=method,\n",
    "                            fit_params=fit_params,\n",
    "                            max_iter=max_iter)\n",
    "tempica = ica.fit(eeg_ica)"
   ]
  },
  {
   "cell_type": "code",
   "execution_count": 19,
   "id": "caring-defeat",
   "metadata": {
    "pycharm": {
     "name": "#%%\n"
    }
   },
   "outputs": [
    {
     "name": "stdout",
     "output_type": "stream",
     "text": [
      "Creating RawArray with float64 data, n_channels=6, n_times=30721\n",
      "    Range : 0 ... 30720 =      0.000 ...    60.000 secs\n",
      "Ready.\n"
     ]
    },
    {
     "data": {
      "text/plain": [
       "<MNEBrowseFigure size 1366x705 with 4 Axes>"
      ]
     },
     "execution_count": 19,
     "metadata": {},
     "output_type": "execute_result"
    }
   ],
   "source": [
    "ica.plot_sources(eeg_ica, show_scrollbars=True)"
   ]
  },
  {
   "cell_type": "code",
   "execution_count": null,
   "id": "greek-advance",
   "metadata": {
    "pycharm": {
     "name": "#%%\n"
    }
   },
   "outputs": [],
   "source": [
    "tempicadata = ica.get_sources(eeg_ica)"
   ]
  },
  {
   "cell_type": "code",
   "execution_count": null,
   "id": "general-computer",
   "metadata": {
    "pycharm": {
     "name": "#%%\n"
    }
   },
   "outputs": [],
   "source": [
    "tempicadata.plot(title = 'ica data', duration = 20, scalings = 10)"
   ]
  },
  {
   "cell_type": "code",
   "execution_count": null,
   "id": "saving-authorization",
   "metadata": {
    "pycharm": {
     "name": "#%%\n"
    }
   },
   "outputs": [],
   "source": []
  },
  {
   "cell_type": "code",
   "execution_count": null,
   "id": "dried-electronics",
   "metadata": {
    "pycharm": {
     "name": "#%%\n"
    }
   },
   "outputs": [],
   "source": [
    "raw_eeg_cropped_filtered.save(pathlib.Path('out_data') / 'eeg_cropped_filt_raw.fif', \n",
    "                              overwrite=True)"
   ]
  },
  {
   "cell_type": "markdown",
   "id": "organizational-physics",
   "metadata": {
    "pycharm": {
     "name": "#%% md\n"
    }
   },
   "source": [
    "## **7) Work in progress**"
   ]
  },
  {
   "cell_type": "code",
   "execution_count": null,
   "id": "earlier-saturday",
   "metadata": {
    "pycharm": {
     "name": "#%%\n"
    }
   },
   "outputs": [],
   "source": []
  },
  {
   "cell_type": "code",
   "execution_count": null,
   "id": "brutal-deficit",
   "metadata": {
    "pycharm": {
     "name": "#%%\n"
    }
   },
   "outputs": [],
   "source": []
  },
  {
   "cell_type": "code",
   "execution_count": null,
   "id": "impressive-classroom",
   "metadata": {
    "pycharm": {
     "name": "#%%\n"
    }
   },
   "outputs": [],
   "source": []
  },
  {
   "cell_type": "code",
   "execution_count": 20,
   "id": "statewide-facial",
   "metadata": {
    "pycharm": {
     "name": "#%%\n"
    }
   },
   "outputs": [
    {
     "name": "stdout",
     "output_type": "stream",
     "text": [
      "Found 2 significant peaks\n"
     ]
    },
    {
     "data": {
      "text/plain": [
       "array([0.36900026, 1.76007351])"
      ]
     },
     "execution_count": 20,
     "metadata": {},
     "output_type": "execute_result"
    }
   ],
   "source": [
    "import numpy as np\n",
    "from mne.preprocessing import peak_finder\n",
    "t = np.arange(0, 3, 0.01)\n",
    "z = np.sin(np.pi*t) - np.sin(0.5*np.pi*t)\n",
    "peak_locs, peak_mags = peak_finder(z) \n",
    "peak_locs  \n",
    "peak_mags "
   ]
  },
  {
   "cell_type": "code",
   "execution_count": null,
   "id": "short-springer",
   "metadata": {
    "pycharm": {
     "name": "#%%\n"
    }
   },
   "outputs": [],
   "source": []
  },
  {
   "cell_type": "code",
   "execution_count": 22,
   "id": "casual-benefit",
   "metadata": {
    "pycharm": {
     "name": "#%%\n"
    }
   },
   "outputs": [],
   "source": [
    "import numpy as np \n",
    "from matplotlib import pyplot as plt \n",
    "\n",
    "x = np.arange(1,11) \n",
    "y = 2 * x + 5 \n",
    "plt.title(\"Matplotlib demo\") \n",
    "plt.xlabel(\"x axis caption\") \n",
    "plt.ylabel(\"y axis caption\") \n",
    "plt.plot(t,z) \n",
    "plt.show()"
   ]
  },
  {
   "cell_type": "code",
   "execution_count": null,
   "id": "becoming-anthropology",
   "metadata": {
    "pycharm": {
     "name": "#%%\n"
    }
   },
   "outputs": [],
   "source": []
  },
  {
   "cell_type": "code",
   "execution_count": null,
   "id": "mounted-stephen",
   "metadata": {
    "pycharm": {
     "name": "#%%\n"
    }
   },
   "outputs": [],
   "source": []
  },
  {
   "cell_type": "code",
   "execution_count": null,
   "id": "functioning-piece",
   "metadata": {
    "pycharm": {
     "name": "#%%\n"
    }
   },
   "outputs": [],
   "source": [
    "# Brute force code\n",
    "import sys\n",
    "print \"GFG\"\n",
    "# O(n * k) solution for finding\n",
    "# maximum sum of a subarray of size k\n",
    "INT_MIN = -sys.maxsize - 1\n",
    "\n",
    "# Returns maximum sum in a\n",
    "# subarray of size k.\n",
    "\n",
    "\n",
    "def maxSum(arr, n, k):\n",
    "\n",
    "    # Initialize result\n",
    "    max_sum = INT_MIN\n",
    "\n",
    "    # Consider all blocks\n",
    "    # starting with i.\n",
    "    for i in range(n - k + 1):\n",
    "        current_sum = 0\n",
    "        for j in range(k):\n",
    "            current_sum = current_sum + arr[i + j]\n",
    "\n",
    "        # Update result if required.\n",
    "        max_sum = max(current_sum, max_sum)\n",
    "\n",
    "return max_sum\n",
    "\n",
    "\n",
    "# Driver code\n",
    "arr = [1, 4, 2, 10, 2,\n",
    "        3, 1, 0, 20]\n",
    "k = 4\n",
    "n = len(arr)\n",
    "print(maxSum(arr, n, k))\n",
    "\n"
   ]
  },
  {
   "cell_type": "code",
   "execution_count": null,
   "id": "understanding-evans",
   "metadata": {
    "pycharm": {
     "name": "#%%\n"
    }
   },
   "outputs": [],
   "source": []
  },
  {
   "cell_type": "code",
   "execution_count": null,
   "id": "printable-academy",
   "metadata": {
    "pycharm": {
     "name": "#%%\n"
    }
   },
   "outputs": [],
   "source": [
    "# O(n) solution for finding\n",
    "# maximum sum of a subarray of size k\n",
    " \n",
    " \n",
    "def maxSum(arr, k):\n",
    "    # length of the array\n",
    "    n = len(arr)\n",
    " \n",
    "    # n must be greater than k\n",
    "    if n < k:\n",
    "        print(\"Invalid\")\n",
    "        return -1\n",
    " \n",
    "    # Compute sum of first window of size k\n",
    "    window_sum = sum(arr[:k])\n",
    " \n",
    "    # first sum available\n",
    "    max_sum = window_sum\n",
    " \n",
    "    # Compute the sums of remaining windows by\n",
    "    # removing first element of previous\n",
    "    # window and adding last element of\n",
    "    # the current window.\n",
    "    for i in range(n - k):\n",
    "        window_sum = window_sum - arr[i] + arr[i + k]\n",
    "        max_sum = max(window_sum, max_sum)\n",
    " \n",
    "return max_sum\n",
    " \n",
    " \n",
    "#  \n",
    "arr = [1, 4, 2, 10, 2, 3, 1, 0, 20]\n",
    "k = 4\n",
    "print(maxSum(arr, k))\n",
    " \n"
   ]
  },
  {
   "cell_type": "code",
   "execution_count": null,
   "id": "legislative-static",
   "metadata": {
    "pycharm": {
     "name": "#%%\n"
    }
   },
   "outputs": [],
   "source": []
  },
  {
   "cell_type": "code",
   "execution_count": null,
   "id": "minute-poultry",
   "metadata": {
    "pycharm": {
     "name": "#%%\n"
    }
   },
   "outputs": [],
   "source": [
    "\n",
    "# An efficient Python3 program to find\n",
    "# maximum of all minimums of windows of\n",
    "# different sizes\n",
    " \n",
    "def printMaxOfMin(arr, n):\n",
    "     \n",
    "    s = [] # Used to find previous\n",
    "           # and next smaller\n",
    " \n",
    "    # Arrays to store previous and next\n",
    "    # smaller. Initialize elements of\n",
    "    # left[] and right[]\n",
    "    left = [-1] * (n + 1)\n",
    "    right = [n] * (n + 1)\n",
    " \n",
    "    # Fill elements of left[] using logic discussed on\n",
    "    # https:#www.geeksforgeeks.org/next-greater-element\n",
    "    for i in range(n):\n",
    "        while (len(s) != 0 and\n",
    "               arr[s[-1]] >= arr[i]):\n",
    "            s.pop()\n",
    " \n",
    "        if (len(s) != 0):\n",
    "            left[i] = s[-1]\n",
    " \n",
    "        s.append(i)\n",
    " \n",
    "    # Empty the stack as stack is going\n",
    "    # to be used for right[]\n",
    "    while (len(s) != 0):\n",
    "        s.pop()\n",
    " \n",
    "    # Fill elements of right[] using same logic\n",
    "    for i in range(n - 1, -1, -1):\n",
    "        while (len(s) != 0 and arr[s[-1]] >= arr[i]):\n",
    "            s.pop()\n",
    " \n",
    "        if(len(s) != 0):\n",
    "            right[i] = s[-1]\n",
    " \n",
    "        s.append(i)\n",
    " \n",
    "    # Create and initialize answer array\n",
    "    ans = [0] * (n + 1)\n",
    "    for i in range(n + 1):\n",
    "        ans[i] = 0\n",
    " \n",
    "    # Fill answer array by comparing minimums\n",
    "    # of all. Lengths computed using left[]\n",
    "    # and right[]\n",
    "    for i in range(n):\n",
    "         \n",
    "        # Length of the interval\n",
    "        Len = right[i] - left[i] - 1\n",
    " \n",
    "        # arr[i] is a possible answer for this\n",
    "        #  Length 'Len' interval, check if arr[i]\n",
    "        # is more than max for 'Len'\n",
    "        ans[Len] = max(ans[Len], arr[i])\n",
    " \n",
    "    # Some entries in ans[] may not be filled\n",
    "    # yet. Fill them by taking values from\n",
    "    # right side of ans[]\n",
    "    for i in range(n - 1, 0, -1):\n",
    "        ans[i] = max(ans[i], ans[i + 1])\n",
    " \n",
    "    # Print the result\n",
    "    for i in range(1, n + 1):\n",
    "        print(ans[i], end = \" \")\n",
    " \n",
    "# Driver Code\n",
    "if __name__ == '__main__':\n",
    " \n",
    "    arr = [10, 20, 30, 50, 10, 70, 30]\n",
    "    n = len(arr)\n",
    "    printMaxOfMin(arr, n)\n",
    " "
   ]
  },
  {
   "cell_type": "code",
   "execution_count": null,
   "id": "framed-accident",
   "metadata": {
    "pycharm": {
     "name": "#%%\n"
    }
   },
   "outputs": [],
   "source": []
  },
  {
   "cell_type": "code",
   "execution_count": null,
   "id": "satellite-scoop",
   "metadata": {
    "pycharm": {
     "name": "#%%\n"
    }
   },
   "outputs": [],
   "source": [
    "import mne\n",
    "from mne.datasets import sample\n",
    "import numpy as np\n",
    "\n",
    "# Setup paths and prepare data\n",
    "raw_fname = sample.data_path () + '/MEG/sample/sample_audvis_filt-0-40_raw.fif'\n",
    "raw = mne.fiff.Raw (raw_fname)\n",
    "picks = mne.fiff.pick_types (raw.info, meg='mag', exclude='bads')\n",
    "\n",
    "ica = mne.preprocessing.ICA (n_components=49)\n",
    "ica.decompose_raw (raw, picks=picks, decim=3)  # use every third sample\n",
    "\n",
    "# find artifacts using bivariate and univariate measures\n",
    "scores = ica.find_sources_raw (raw, target='EOG 061', score_func='correlation')\n",
    "ica.exclude += [scores.argmax ()]\n",
    "\n",
    "scores = ica.find_sources_raw (raw, score_func=np.var)\n",
    "ica.exclude += [scores.argmax ()]\n",
    "\n",
    "# Visualize result using topography and source time course\n",
    "ica.plot_topomap (ica.exclude)\n",
    "ica.plot_sources_raw (raw, ica.exclude, start=100., stop=103.)"
   ]
  }
 ],
 "metadata": {
  "kernelspec": {
   "display_name": "Python 3",
   "language": "python",
   "name": "python3"
  },
  "language_info": {
   "codemirror_mode": {
    "name": "ipython",
    "version": 3
   },
   "file_extension": ".py",
   "mimetype": "text/x-python",
   "name": "python",
   "nbconvert_exporter": "python",
   "pygments_lexer": "ipython3",
   "version": "3.8.8"
  }
 },
 "nbformat": 4,
 "nbformat_minor": 5
}